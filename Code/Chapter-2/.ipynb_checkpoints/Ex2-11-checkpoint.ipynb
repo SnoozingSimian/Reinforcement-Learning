{
 "cells": [
  {
   "cell_type": "markdown",
   "id": "088fe57b",
   "metadata": {},
   "source": [
    "### Excercise 2.11\n",
    "\n",
    "![Parameter Comparison](images/parameter_comparison.png)\n",
    "\n",
    "Make a figure analogous to the one above for the nonstationary case outlined in Exercise 2.5. Include the constant-step-size $\\epsilon$-greedy algorithm with $\\alpha$ = 0.1. Use runs of 200,000 steps and, as a performance measure for each algorithm and parameter setting, use the average reward over the last 100,000 steps."
   ]
  },
  {
   "cell_type": "code",
   "execution_count": null,
   "id": "a3e6f423",
   "metadata": {},
   "outputs": [],
   "source": []
  }
 ],
 "metadata": {
  "kernelspec": {
   "display_name": "Python 3",
   "language": "python",
   "name": "python3"
  },
  "language_info": {
   "codemirror_mode": {
    "name": "ipython",
    "version": 3
   },
   "file_extension": ".py",
   "mimetype": "text/x-python",
   "name": "python",
   "nbconvert_exporter": "python",
   "pygments_lexer": "ipython3",
   "version": "3.7.10"
  }
 },
 "nbformat": 4,
 "nbformat_minor": 5
}
