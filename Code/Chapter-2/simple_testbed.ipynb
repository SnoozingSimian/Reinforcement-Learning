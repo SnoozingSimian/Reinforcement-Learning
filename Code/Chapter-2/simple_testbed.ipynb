{
 "cells": [
  {
   "cell_type": "code",
   "execution_count": null,
   "id": "4ef380d8",
   "metadata": {},
   "outputs": [],
   "source": [
    "import numpy as np\n",
    "import random\n",
    "from tqdm.auto import tqdm"
   ]
  },
  {
   "cell_type": "code",
   "execution_count": 15,
   "id": "8456fe27",
   "metadata": {},
   "outputs": [],
   "source": [
    "VALUE_MEANS = [random.randint(-4,4) for _ in range(10)]\n",
    "\n",
    "Q_VALS = np.zeros(10)"
   ]
  },
  {
   "cell_type": "code",
   "execution_count": 50,
   "id": "fb705ffe",
   "metadata": {},
   "outputs": [],
   "source": [
    "def return_reward(action, std_dev=1):\n",
    "    VALUE_MEANS = [-3, 4, 3, -2, 0, 2, 1, 0, 0, 2]\n",
    "    \n",
    "    return np.random.normal(value_means[action], 1)\n",
    "\n",
    "def flip_coin(p):\n",
    "    return np.random.binomial(1, p)\n",
    "    \n",
    "def pick_action(epsilon, q_vals):\n",
    "    choice = flip_coin(epsilon)\n",
    "    \n",
    "    if choice == 1:\n",
    "        action = random.randint(0,9)\n",
    "    else:\n",
    "        action = np.argmax(q_vals)\n",
    "        \n",
    "    return action\n",
    "\n",
    "def decay_epsilon(e0, rate, time):\n",
    "    return e0**(rate*time)\n",
    "\n",
    "def learn_q_values(q_vals_est, epsilon0=0.3, decay=True, decay_rate=0.001, alpha=0.2, max_iters=10000):\n",
    "    print(f\"parameters:\\nq_value_estimates = {q_vals_est}\\nepsilon_0={epsilon0}\\ndecay={decay}\")\n",
    "    if decay:\n",
    "        print(f\"decay_rate={decay_rate}\")\n",
    "    print(f\"max_iters={max_iters}\")\n",
    "    \n",
    "    q_vals = np.array(q_vals_est)\n",
    "    action_counter = np.zeros(10)\n",
    "    total_reward = 0\n",
    "    \n",
    "    for i in tqdm(range(max_iters)):\n",
    "        if decay:\n",
    "            epsilon0 = decay_epsilon(epsilon0, decay_rate, i)\n",
    "            \n",
    "        take_action = pick_action(epsilon0, q_vals)\n",
    "        \n",
    "        action_counter[take_action] += 1\n",
    "        \n",
    "        reward = return_reward(take_action)\n",
    "        total_reward += reward\n",
    "        \n",
    "        q_vals[take_action] = (1-alpha)*q_vals[take_action] + alpha*reward\n",
    "        \n",
    "        #print(action_counter)\n",
    "        #print(q_vals)\n",
    "        \n",
    "    print(action_counter)    \n",
    "    return q_vals, total_reward"
   ]
  },
  {
   "cell_type": "code",
   "execution_count": 51,
   "id": "e92c1481",
   "metadata": {},
   "outputs": [
    {
     "name": "stderr",
     "output_type": "stream",
     "text": [
      "  2%|▏         | 22241/1000000 [00:00<00:08, 113189.53it/s]"
     ]
    },
    {
     "name": "stdout",
     "output_type": "stream",
     "text": [
      "parameters:\n",
      "q_value_estimates = [0. 0. 0. 0. 0. 0. 0. 0. 0. 0.]\n",
      "epsilon_0=0.3\n",
      "decay=True\n",
      "decay_rate=0.001\n",
      "max_iters=1000000\n"
     ]
    },
    {
     "name": "stderr",
     "output_type": "stream",
     "text": [
      "100%|██████████| 1000000/1000000 [00:08<00:00, 124170.61it/s]"
     ]
    },
    {
     "name": "stdout",
     "output_type": "stream",
     "text": [
      "[100196.  99585. 100132. 100115. 100033. 100399.  99667. 100037. 100007.\n",
      "  99829.]\n",
      "final q value estimates after 1000000 iterations:[-3.2641646   0.72592524 -2.1856018   1.68938552  3.06841891 -1.70356467\n",
      "  3.23873176  3.01089626  2.36849511 -2.82803683]\n",
      "total reward = 399688.6631290405\n"
     ]
    },
    {
     "name": "stderr",
     "output_type": "stream",
     "text": [
      "\n"
     ]
    }
   ],
   "source": [
    "MAX_ITERS = 1000000\n",
    "\n",
    "q_vals, tot_reward = learn_q_values(Q_VALS, max_iters=MAX_ITERS)\n",
    "print(f\"final q value estimates after {MAX_ITERS} iterations:{q_vals}\")\n",
    "print(f\"total reward = {tot_reward}\")"
   ]
  },
  {
   "cell_type": "code",
   "execution_count": null,
   "id": "aee748e8",
   "metadata": {},
   "outputs": [],
   "source": []
  }
 ],
 "metadata": {
  "kernelspec": {
   "display_name": "Python 3",
   "language": "python",
   "name": "python3"
  },
  "language_info": {
   "codemirror_mode": {
    "name": "ipython",
    "version": 3
   },
   "file_extension": ".py",
   "mimetype": "text/x-python",
   "name": "python",
   "nbconvert_exporter": "python",
   "pygments_lexer": "ipython3",
   "version": "3.7.10"
  }
 },
 "nbformat": 4,
 "nbformat_minor": 5
}
